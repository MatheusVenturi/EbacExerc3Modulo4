{
 "cells": [
  {
   "cell_type": "markdown",
   "metadata": {},
   "source": [
    "# Tarefa 03\n",
    "\n",
    "- Leia os enunciados com atenção\n",
    "- Saiba que pode haver mais de uma resposta correta\n",
    "- Insira novas células de código sempre que achar necessário\n",
    "- Em caso de dúvidas, procure os Tutores\n",
    "- Divirta-se :)"
   ]
  },
  {
   "cell_type": "code",
   "execution_count": 196,
   "metadata": {},
   "outputs": [],
   "source": [
    "import pandas as pd\n",
    "import requests\n",
    "from functools import reduce"
   ]
  },
  {
   "cell_type": "markdown",
   "metadata": {},
   "source": [
    "####  1) Lendo de APIs\n",
    "Vimos em aula como carregar dados públicos do governo através de um API (*Application Programming Interface*). No exemplo de aula, baixamos os dados de pedidos de verificação de limites (PVL) realizados por estados, e selecionamos apenas aqueles referentes ao estado de São Paulo.\n",
    "\n",
    "1. Repita os mesmos passos feitos em aula, mas selecione os PVLs realizados por municípios no estado do Rio de Janeiro.\n",
    "2. Quais são os três *status* das solicitações mais frequentes na base? Quais são suas frequências?\n",
    "3. Construa uma nova variável que contenha o ano do **status**. Observe que ```data_status``` vem como tipo *object* no **DataFrame**. Dica: você pode usar o método ```.str``` para transformar o tipo da variável em string, em seguida um método como [**slice()**](https://pandas.pydata.org/docs/reference/api/pandas.Series.str.slice.html) ou [**split()**](https://pandas.pydata.org/pandas-docs/stable/reference/api/pandas.Series.str.split.html).\n",
    "4. Indique a frequência de cada ano do campo construído no item (3)."
   ]
  },
  {
   "cell_type": "code",
   "execution_count": 197,
   "metadata": {},
   "outputs": [],
   "source": [
    "# 1) Seu código aqui\n",
    "url = 'https://apidatalake.tesouro.gov.br/ords/sadipem/tt/pvl?uf=RJ&tipo_interessado=Munic%C3%ADpio'\n",
    "r = requests.get(url)\n",
    "data_json = r.json()"
   ]
  },
  {
   "cell_type": "code",
   "execution_count": 255,
   "metadata": {},
   "outputs": [
    {
     "name": "stdout",
     "output_type": "stream",
     "text": [
      "O status mais frequente e a quantidade é:  ('Deferido', 95)\n",
      "O segunda status mais frequente e a quantidade é:  ('Arquivado', 53)\n",
      "O terceiro status mais frequente e a quantidade é:  ('Regularizado', 26)\n"
     ]
    }
   ],
   "source": [
    "# 2) Seu código aqui\n",
    "pvls_RJ = pd.DataFrame(data_json['items'])\n",
    "lista_status = list(pvls_RJ['status'].unique())\n",
    "qtde_status = list(map(lambda x: pvls_RJ[pvls_RJ['status']==x].shape[0], lista_status))\n",
    "dict_status = dict(zip(lista_status, qtde_status))\n",
    "\n",
    "def ordena_dict(dicionario):\n",
    "    return dict(sorted(dicionario.items(), key=lambda t:t[1], reverse=True))\n",
    "dict_status_decrescente = ordena_dict(dict_status)\n",
    "\n",
    "print('O status mais frequente e a quantidade é: ', list(dict_status_decrescente.items())[0])\n",
    "print('O segunda status mais frequente e a quantidade é: ', list(dict_status_decrescente.items())[1])\n",
    "print('O terceiro status mais frequente e a quantidade é: ', list(dict_status_decrescente.items())[2])"
   ]
  },
  {
   "cell_type": "code",
   "execution_count": 199,
   "metadata": {},
   "outputs": [
    {
     "data": {
      "text/plain": [
       "{'2008': 37,\n",
       " '2011': 10,\n",
       " '2016': 4,\n",
       " '2013': 15,\n",
       " '2020': 15,\n",
       " '2015': 8,\n",
       " '2007': 29,\n",
       " '2012': 13,\n",
       " '2006': 4,\n",
       " '2002': 4,\n",
       " '2009': 9,\n",
       " '2010': 19,\n",
       " '2014': 20,\n",
       " '2023': 9,\n",
       " '2022': 12,\n",
       " '2003': 1,\n",
       " '2004': 1,\n",
       " '2017': 5,\n",
       " '2019': 17,\n",
       " '2021': 5,\n",
       " '2018': 4}"
      ]
     },
     "execution_count": 199,
     "metadata": {},
     "output_type": "execute_result"
    }
   ],
   "source": [
    "# 3) Seu código aqui\n",
    "pvls_RJ_copy = pvls_RJ.copy()\n",
    "ano_status = pvls_RJ_copy['data_status'].str\n",
    "pvls_RJ_copy['ano_status'] = ano_status[6:10]\n",
    "lista_status_ano = pvls_RJ_copy['ano_status'].unique()\n",
    "qtde_status_ano = list(map(lambda x: pvls_RJ_copy[pvls_RJ_copy['ano_status']==x].shape[0], lista_status_ano))\n",
    "dict_status_ano = dict(zip(lista_status_ano, qtde_status_ano))\n",
    "dict_status_ano"
   ]
  },
  {
   "cell_type": "markdown",
   "metadata": {},
   "source": [
    "####  2) Melhorando a interação com o API\n",
    "Observe dois URLs de consultas diferentes, por exemplo o URL utilizado em aula, e o URL feito no exercício anterior. Compare-os e observe as diferenças.\n",
    "\n",
    "1. Faça uma função em Python que recebe como argumento o UF da consulta e o tipo de interessado (```'Estado'```ou ```Município```), e que devolve os dados da consulta no formato *DataFrame*.\n",
    "2. Quantas solicitações para o Estado podem ser consultadas para Minas Gerais com *status* em 'Arquivado por decurso de prazo' estão registradas?\n",
    "3. Qual é o município da Bahia com mais solicitações deferidas?\n",
    "4. Salve um arquivo .csv com os dados de solicitações da Bahia, com interessado = 'Estado'"
   ]
  },
  {
   "cell_type": "code",
   "execution_count": 246,
   "metadata": {},
   "outputs": [],
   "source": [
    "#1) Seu código aqui\n",
    "# Coletar dados por estados\n",
    "url_estado = 'https://apidatalake.tesouro.gov.br/ords/sadipem/tt/pvl?tipo_interessado=Estado'\n",
    "r_estado = requests.get(url_estado)\n",
    "data_json_estado = r_estado.json()\n",
    "pvls_estados = pd.DataFrame(data_json_estado['items'])\n",
    "\n",
    "# Coletar dados por municípios\n",
    "url_municipio = 'https://apidatalake.tesouro.gov.br/ords/sadipem/tt/pvl?tipo_interessado=Munic%C3%ADpio'\n",
    "r_municipio = requests.get(url_municipio)\n",
    "data_json_municipio = r_municipio.json()\n",
    "pvls_municipios = pd.DataFrame(data_json_municipio['items'])\n",
    "# https://apidatalake.tesouro.gov.br/ords/sadipem/tt/pvl?tipo_interessado=Munic%C3%ADpio\n",
    "\n",
    "def consulta(tipo_interessado, uf):\n",
    "    if (tipo_interessado=='Estado'):\n",
    "        return pd.DataFrame(pvls_estados[pvls_estados['uf']==uf])\n",
    "    elif (tipo_interessado=='Municipio'):\n",
    "         return pd.DataFrame(pvls_municipios[pvls_municipios['uf']==uf])\n",
    "    else:\n",
    "        print('Precisa escolhar o tipo_interessado entre Estado e Municipio')\n",
    "\n",
    "#consulta('Estado', 'BA')"
   ]
  },
  {
   "cell_type": "code",
   "execution_count": 247,
   "metadata": {},
   "outputs": [
    {
     "name": "stdout",
     "output_type": "stream",
     "text": [
      "Arquivado por decurso de prazo tem 1 solicitação(ões).\n"
     ]
    }
   ],
   "source": [
    "# 2) Seu código aqui\n",
    "dados_minas_gerais = consulta('Estado', 'MG')\n",
    "qtde_arq_prazo = dados_minas_gerais[dados_minas_gerais['status']=='Arquivado por decurso de prazo'].shape[0]\n",
    "print('Arquivado por decurso de prazo tem', qtde_arq_prazo, 'solicitação(ões).')"
   ]
  },
  {
   "cell_type": "code",
   "execution_count": 254,
   "metadata": {},
   "outputs": [
    {
     "name": "stdout",
     "output_type": "stream",
     "text": [
      "O município da Bahia com mais solicitações deferidas é:  ('Vitória da Conquista', 5)\n"
     ]
    }
   ],
   "source": [
    "# 3) Seu código aqui\n",
    "dados_bahia = consulta('Municipio', 'BA')\n",
    "dados_deferidos = dados_bahia[dados_bahia['status']=='Deferido']\n",
    "\n",
    "lista_dados_deferidos = list(dados_deferidos['interessado'].unique())\n",
    "qtde_dados_deferidos = list(map(lambda x: dados_deferidos[dados_deferidos['interessado']==x].shape[0], lista_dados_deferidos))\n",
    "dict_dados_deferidos = dict(zip(lista_dados_deferidos, qtde_dados_deferidos))\n",
    "\n",
    "def ordena_dict(dicionario):\n",
    "    return dict(sorted(dicionario.items(), key=lambda t:t[1], reverse=True))\n",
    "dict_dados_deferidos_decrescente = ordena_dict(dict_dados_deferidos)\n",
    "\n",
    "print('O município da Bahia com mais solicitações deferidas é: ', list(dict_dados_deferidos_decrescente.items())[0])\n",
    "#dict_dados_deferidos_decrescente"
   ]
  },
  {
   "cell_type": "code",
   "execution_count": 259,
   "metadata": {},
   "outputs": [],
   "source": [
    "# 4) Seu código aqui\n",
    "dados_estado_bahia = consulta('Estado', 'BA')\n",
    "dados_estado_bahia.to_csv('arquivo_dados_estado_BA.csv')"
   ]
  },
  {
   "cell_type": "code",
   "execution_count": null,
   "metadata": {},
   "outputs": [],
   "source": []
  }
 ],
 "metadata": {
  "kernelspec": {
   "display_name": "Python 3 (ipykernel)",
   "language": "python",
   "name": "python3"
  },
  "language_info": {
   "codemirror_mode": {
    "name": "ipython",
    "version": 3
   },
   "file_extension": ".py",
   "mimetype": "text/x-python",
   "name": "python",
   "nbconvert_exporter": "python",
   "pygments_lexer": "ipython3",
   "version": "3.9.7"
  }
 },
 "nbformat": 4,
 "nbformat_minor": 4
}
